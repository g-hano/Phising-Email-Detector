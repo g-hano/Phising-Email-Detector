{
 "cells": [
  {
   "cell_type": "code",
   "execution_count": 111,
   "id": "ac4bd748-ba46-48bd-b5c2-85a9cd543507",
   "metadata": {},
   "outputs": [],
   "source": [
    "import pandas as pd\n",
    "import matplotlib.pyplot as plt\n",
    "import numpy as np"
   ]
  },
  {
   "cell_type": "markdown",
   "id": "666ba985-2007-4fb7-9f87-0c2ba397d69d",
   "metadata": {},
   "source": [
    "## Data"
   ]
  },
  {
   "cell_type": "code",
   "execution_count": 112,
   "id": "d7337c02-c203-43ce-8f79-17c9f45984df",
   "metadata": {},
   "outputs": [
    {
     "data": {
      "text/html": [
       "<div>\n",
       "<style scoped>\n",
       "    .dataframe tbody tr th:only-of-type {\n",
       "        vertical-align: middle;\n",
       "    }\n",
       "\n",
       "    .dataframe tbody tr th {\n",
       "        vertical-align: top;\n",
       "    }\n",
       "\n",
       "    .dataframe thead th {\n",
       "        text-align: right;\n",
       "    }\n",
       "</style>\n",
       "<table border=\"1\" class=\"dataframe\">\n",
       "  <thead>\n",
       "    <tr style=\"text-align: right;\">\n",
       "      <th></th>\n",
       "      <th>Email Text</th>\n",
       "      <th>Email Type</th>\n",
       "    </tr>\n",
       "  </thead>\n",
       "  <tbody>\n",
       "    <tr>\n",
       "      <th>0</th>\n",
       "      <td>re : 6 . 1100 , disc : uniformitarianism , re ...</td>\n",
       "      <td>Safe Email</td>\n",
       "    </tr>\n",
       "    <tr>\n",
       "      <th>1</th>\n",
       "      <td>the other side of * galicismos * * galicismo *...</td>\n",
       "      <td>Safe Email</td>\n",
       "    </tr>\n",
       "    <tr>\n",
       "      <th>2</th>\n",
       "      <td>re : equistar deal tickets are you still avail...</td>\n",
       "      <td>Safe Email</td>\n",
       "    </tr>\n",
       "    <tr>\n",
       "      <th>3</th>\n",
       "      <td>\\r\\nHello I am your hot lil horny toy.\\r\\n    ...</td>\n",
       "      <td>Phishing Email</td>\n",
       "    </tr>\n",
       "    <tr>\n",
       "      <th>4</th>\n",
       "      <td>software at incredibly low prices ( 86 % lower...</td>\n",
       "      <td>Phishing Email</td>\n",
       "    </tr>\n",
       "  </tbody>\n",
       "</table>\n",
       "</div>"
      ],
      "text/plain": [
       "                                          Email Text      Email Type\n",
       "0  re : 6 . 1100 , disc : uniformitarianism , re ...      Safe Email\n",
       "1  the other side of * galicismos * * galicismo *...      Safe Email\n",
       "2  re : equistar deal tickets are you still avail...      Safe Email\n",
       "3  \\r\\nHello I am your hot lil horny toy.\\r\\n    ...  Phishing Email\n",
       "4  software at incredibly low prices ( 86 % lower...  Phishing Email"
      ]
     },
     "execution_count": 112,
     "metadata": {},
     "output_type": "execute_result"
    }
   ],
   "source": [
    "df = pd.read_csv('Phishing_Email.csv')\n",
    "df.head()"
   ]
  },
  {
   "cell_type": "code",
   "execution_count": 113,
   "id": "256f76e3-ee8f-48f7-98af-311c056e9b34",
   "metadata": {},
   "outputs": [],
   "source": [
    "df.to_csv('Phishing_Email.csv', index=False)"
   ]
  },
  {
   "cell_type": "code",
   "execution_count": 114,
   "id": "dc33e80a-a054-42f6-9803-1ca9f1a90e10",
   "metadata": {},
   "outputs": [
    {
     "data": {
      "text/plain": [
       "Index(['Email Text', 'Email Type'], dtype='object')"
      ]
     },
     "execution_count": 114,
     "metadata": {},
     "output_type": "execute_result"
    }
   ],
   "source": [
    "df.columns"
   ]
  },
  {
   "cell_type": "code",
   "execution_count": 115,
   "id": "a1a43360-558c-4cec-a291-4471f3c4d837",
   "metadata": {},
   "outputs": [
    {
     "name": "stdout",
     "output_type": "stream",
     "text": [
      "<class 'pandas.core.frame.DataFrame'>\n",
      "RangeIndex: 18650 entries, 0 to 18649\n",
      "Data columns (total 2 columns):\n",
      " #   Column      Non-Null Count  Dtype \n",
      "---  ------      --------------  ----- \n",
      " 0   Email Text  18634 non-null  object\n",
      " 1   Email Type  18650 non-null  object\n",
      "dtypes: object(2)\n",
      "memory usage: 291.5+ KB\n"
     ]
    }
   ],
   "source": [
    "df.info()"
   ]
  },
  {
   "cell_type": "code",
   "execution_count": 116,
   "id": "648a4cef-c2b3-43f1-9710-d1f0dcb85d09",
   "metadata": {},
   "outputs": [],
   "source": [
    "df = df.head(10000)"
   ]
  },
  {
   "cell_type": "raw",
   "id": "d43785da-7dd2-4937-bda8-da70b30c0c04",
   "metadata": {},
   "source": [
    "Different numbers of Non-Null values, we have missing values in the data"
   ]
  },
  {
   "cell_type": "code",
   "execution_count": 117,
   "id": "6db7ed61-1d58-400d-93b9-f9023de32b02",
   "metadata": {},
   "outputs": [
    {
     "data": {
      "text/plain": [
       "Email Text    13\n",
       "Email Type     0\n",
       "dtype: int64"
      ]
     },
     "execution_count": 117,
     "metadata": {},
     "output_type": "execute_result"
    }
   ],
   "source": [
    "df.isna().sum()"
   ]
  },
  {
   "cell_type": "code",
   "execution_count": 118,
   "id": "47f61db7-04dc-46d9-a911-8d2673903004",
   "metadata": {},
   "outputs": [
    {
     "data": {
      "text/plain": [
       "31      NaN\n",
       "387     NaN\n",
       "1883    NaN\n",
       "2049    NaN\n",
       "2451    NaN\n",
       "2972    NaN\n",
       "3627    NaN\n",
       "3806    NaN\n",
       "5763    NaN\n",
       "6299    NaN\n",
       "6821    NaN\n",
       "8594    NaN\n",
       "9999    NaN\n",
       "Name: Email Text, dtype: object"
      ]
     },
     "execution_count": 118,
     "metadata": {},
     "output_type": "execute_result"
    }
   ],
   "source": [
    "empty_values = df[df['Email Text'].isnull()]['Email Text']\n",
    "empty_values"
   ]
  },
  {
   "cell_type": "code",
   "execution_count": null,
   "id": "70facd01-5c2d-4288-b321-9c90b8477943",
   "metadata": {
    "scrolled": true
   },
   "outputs": [],
   "source": [
    "df.dropna(subset=['Email Text'], inplace=True) # Clean the n/a values\n",
    "df"
   ]
  },
  {
   "cell_type": "code",
   "execution_count": 120,
   "id": "56fb323d-d535-44ff-a4ed-2e8740f4bf34",
   "metadata": {},
   "outputs": [
    {
     "data": {
      "text/plain": [
       "Email Text    False\n",
       "Email Type    False\n",
       "dtype: bool"
      ]
     },
     "execution_count": 120,
     "metadata": {},
     "output_type": "execute_result"
    }
   ],
   "source": [
    "df.isna().any()"
   ]
  },
  {
   "cell_type": "markdown",
   "id": "40dc9b39-cf40-457e-9c61-c30df6453ee4",
   "metadata": {},
   "source": [
    "## Dealing with text data"
   ]
  },
  {
   "cell_type": "markdown",
   "id": "3a9b599a-c3ff-4378-bb64-8fba4908f6f5",
   "metadata": {},
   "source": [
    "### Tokenization and Stop word removal and Stemming"
   ]
  },
  {
   "cell_type": "code",
   "execution_count": 121,
   "id": "fb9bc00a-da73-4b61-aa19-87716045754d",
   "metadata": {},
   "outputs": [],
   "source": [
    "import tensorflow as tf\n",
    "from tensorflow import keras\n",
    "from tensorflow.keras.preprocessing.text import Tokenizer"
   ]
  },
  {
   "cell_type": "code",
   "execution_count": 122,
   "id": "5d78c7ee-88a7-464a-ae10-9a563fbcbb4d",
   "metadata": {},
   "outputs": [],
   "source": [
    "import spacy\n",
    "from spacy.lang.en import stop_words"
   ]
  },
  {
   "cell_type": "code",
   "execution_count": 123,
   "id": "9e511a51-610e-45eb-9942-10e83ded1c43",
   "metadata": {
    "scrolled": true
   },
   "outputs": [],
   "source": [
    "sentences = df['Email Text']\n",
    "\n",
    "nlp = spacy.load('en_core_web_sm')\n",
    "nlp.max_length = 20_000_000\n",
    "stop_words = stop_words.STOP_WORDS"
   ]
  },
  {
   "cell_type": "code",
   "execution_count": 124,
   "id": "91d2f2ef-8f65-4ae1-81b8-d7682b4945d8",
   "metadata": {},
   "outputs": [],
   "source": [
    "from nltk.stem import PorterStemmer"
   ]
  },
  {
   "cell_type": "code",
   "execution_count": 125,
   "id": "62f15005-0c7f-4f1c-b075-83e2ab2578b7",
   "metadata": {},
   "outputs": [],
   "source": [
    "stemmer = PorterStemmer()"
   ]
  },
  {
   "cell_type": "code",
   "execution_count": 126,
   "id": "77371e08-0142-48fe-b9de-081b5583df3e",
   "metadata": {
    "scrolled": true
   },
   "outputs": [],
   "source": [
    "tokenizer = Tokenizer(num_words=100, filters='!\"#$%&()*+,-./:;<=>?@[\\]^_`{|}~', lower=True)\n",
    "\n",
    "tokenized_sentences = []\n",
    "for sentence in sentences:\n",
    "    if len(sentence) > nlp.max_length:\n",
    "        sentence = sentence[:nlp.max_length]  # Truncate the sentence if it exceeds the maximum length\n",
    "    doc = nlp(sentence)\n",
    "    tokens = [token.lemma_ for token in doc if token.lemma_ not in stop_words]\n",
    "    stemmed_tokens = [stemmer.stem(token) for token in tokens]  # Apply stemming to each token\n",
    "    tokenized_sentences.append(\" \".join(stemmed_tokens))\n",
    "\n",
    "tokenizer.fit_on_texts(tokenized_sentences)\n",
    "word_index = tokenizer.word_index"
   ]
  },
  {
   "cell_type": "code",
   "execution_count": null,
   "id": "2e4ababe-525d-4e68-9266-a5c3f17c3f34",
   "metadata": {
    "scrolled": true
   },
   "outputs": [],
   "source": [
    "word_index"
   ]
  },
  {
   "cell_type": "markdown",
   "id": "1ebff875-b485-4a6e-8327-d85e02b82497",
   "metadata": {},
   "source": [
    "# Model"
   ]
  },
  {
   "cell_type": "code",
   "execution_count": 128,
   "id": "e35ded72-3ed6-4a71-a908-52cea2b3c913",
   "metadata": {},
   "outputs": [],
   "source": [
    "from tensorflow.keras.preprocessing.sequence import pad_sequences\n",
    "from tensorflow.keras.layers import Embedding, LSTM, Dense"
   ]
  },
  {
   "cell_type": "code",
   "execution_count": 129,
   "id": "76182da6-49d7-4b16-977e-8a184778b6f9",
   "metadata": {},
   "outputs": [],
   "source": [
    "# Convert tokenized sentences to sequences of indices\n",
    "sequences = tokenizer.texts_to_sequences(tokenized_sentences)\n",
    "\n",
    "# Pad sequences to ensure equal length\n",
    "max_sequence_length = max(len(seq) for seq in sequences)\n",
    "padded_sequences = pad_sequences(sequences)"
   ]
  },
  {
   "cell_type": "code",
   "execution_count": 130,
   "id": "54243969-1693-477b-9c3b-9a940d3c0869",
   "metadata": {},
   "outputs": [],
   "source": [
    "X = padded_sequences\n",
    "Y = df[['Email Type']]"
   ]
  },
  {
   "cell_type": "code",
   "execution_count": 132,
   "id": "4e2cb20e-8e04-40fc-9ba9-c48454e20371",
   "metadata": {},
   "outputs": [],
   "source": [
    "from sklearn.model_selection import train_test_split"
   ]
  },
  {
   "cell_type": "code",
   "execution_count": 133,
   "id": "7836496f-374c-46da-8e69-d8239a44bab8",
   "metadata": {},
   "outputs": [],
   "source": [
    "X_train, X_test, Y_train, Y_test = train_test_split(X, Y, test_size=0.2, random_state=42)"
   ]
  },
  {
   "cell_type": "code",
   "execution_count": 134,
   "id": "104dc610-3837-4297-9dd6-da997006603d",
   "metadata": {},
   "outputs": [],
   "source": [
    "# Define Model\n",
    "model = keras.Sequential()\n",
    "model.add(keras.layers.Embedding(input_dim=len(word_index)+1, output_dim=100, input_length=max_sequence_length))\n",
    "model.add(keras.layers.LSTM(units=64))\n",
    "model.add(keras.layers.Dense(units=1, activation='sigmoid'))   "
   ]
  },
  {
   "cell_type": "code",
   "execution_count": 135,
   "id": "702099cd-c3de-411a-b04f-f397b58a5ac7",
   "metadata": {},
   "outputs": [],
   "source": [
    "model.compile(loss='binary_crossentropy', optimizer='adam', metrics=['accuracy'])"
   ]
  },
  {
   "cell_type": "code",
   "execution_count": 140,
   "id": "a38ec5b1-001d-4c7f-b45b-9b313f53cf5c",
   "metadata": {},
   "outputs": [],
   "source": [
    "Y_train = np.where(Y_train == 'Safe Email', 0, 1)\n",
    "Y_test = np.where(Y_test == 'Safe Email', 0, 1)"
   ]
  },
  {
   "cell_type": "code",
   "execution_count": 142,
   "id": "3bbb89ea-8074-4369-9886-bb238fe8155d",
   "metadata": {},
   "outputs": [
    {
     "name": "stdout",
     "output_type": "stream",
     "text": [
      "250/250 [==============================] - 214s 855ms/step - loss: 0.3086 - accuracy: 0.8740\n"
     ]
    },
    {
     "data": {
      "text/plain": [
       "<keras.callbacks.History at 0x2ded2b0f710>"
      ]
     },
     "execution_count": 142,
     "metadata": {},
     "output_type": "execute_result"
    }
   ],
   "source": [
    "# Train the model\n",
    "model.fit(X_train, Y_train, epochs=1, batch_size=32)"
   ]
  },
  {
   "cell_type": "code",
   "execution_count": 144,
   "id": "1ff7ed77-ab6d-4dc3-9de3-2db61848d047",
   "metadata": {},
   "outputs": [
    {
     "name": "stdout",
     "output_type": "stream",
     "text": [
      "63/63 [==============================] - 12s 181ms/step\n"
     ]
    }
   ],
   "source": [
    "predictions = model.predict(X_test)"
   ]
  },
  {
   "cell_type": "code",
   "execution_count": 147,
   "id": "fe2617ab-257b-40d0-a6f3-1115ace85f36",
   "metadata": {},
   "outputs": [],
   "source": [
    "from sklearn.metrics import accuracy_score\n",
    "\n",
    "rounded_predictions = predictions.round().astype(int)\n",
    "accuracy = accuracy_score(Y_test.astype(int), rounded_predictions)"
   ]
  },
  {
   "cell_type": "code",
   "execution_count": 148,
   "id": "ce1f1dde-6142-40db-a965-34ff06467b36",
   "metadata": {},
   "outputs": [
    {
     "name": "stdout",
     "output_type": "stream",
     "text": [
      "Accuracy: 0.8818818818818819\n"
     ]
    }
   ],
   "source": [
    "print(\"Accuracy:\", accuracy)\n"
   ]
  },
  {
   "cell_type": "code",
   "execution_count": 149,
   "id": "6c4edf69-ec13-4adc-9063-735df4bc7bae",
   "metadata": {},
   "outputs": [],
   "source": [
    "model.save(\"model.h5\")"
   ]
  },
  {
   "cell_type": "markdown",
   "id": "4908454c-b776-4919-a7eb-ed4187c54b33",
   "metadata": {},
   "source": [
    "## Custom Predict"
   ]
  },
  {
   "cell_type": "code",
   "execution_count": 152,
   "id": "f6968f3c-4284-4cfd-8bce-d4fe4e696a44",
   "metadata": {},
   "outputs": [
    {
     "name": "stdout",
     "output_type": "stream",
     "text": [
      "1/1 [==============================] - 0s 68ms/step\n",
      "Safe\n"
     ]
    }
   ],
   "source": [
    "import spacy\n",
    "\n",
    "# Preprocess the input text\n",
    "custom_text = \"Leo Messi,\\n\\nThank you for taking the time to provide feedback on your subscription experience.\\n\\nBest Regards,\\nThe Barcelona Football Team\" # Safe Email\n",
    "# custom_text = \"You won 1000000 million dollars!!!\" # Fake email\n",
    "\n",
    "# Tokenize the text\n",
    "nlp = spacy.load('en_core_web_sm')\n",
    "doc = nlp(custom_text)\n",
    "tokens = [token.lemma_ for token in doc if token.lemma_ not in stop_words]\n",
    "stemmed_tokens = [stemmer.stem(token) for token in tokens]\n",
    "tokenized_text = \" \".join(stemmed_tokens)\n",
    "\n",
    "# Convert tokenized text to sequences\n",
    "sequences = tokenizer.texts_to_sequences([tokenized_text])\n",
    "\n",
    "# Pad the sequence to match the desired length\n",
    "padded_sequence = pad_sequences(sequences, maxlen=max_sequence_length)\n",
    "\n",
    "# Make predictions\n",
    "prediction = model.predict(padded_sequence)\n",
    "prediction_class = \"Safe\" if prediction[0] < 0.5 else \"Phishing\"\n",
    "print(prediction_class)"
   ]
  }
 ],
 "metadata": {
  "kernelspec": {
   "display_name": "Python 3 (ipykernel)",
   "language": "python",
   "name": "python3"
  },
  "language_info": {
   "codemirror_mode": {
    "name": "ipython",
    "version": 3
   },
   "file_extension": ".py",
   "mimetype": "text/x-python",
   "name": "python",
   "nbconvert_exporter": "python",
   "pygments_lexer": "ipython3",
   "version": "3.11.3"
  }
 },
 "nbformat": 4,
 "nbformat_minor": 5
}
